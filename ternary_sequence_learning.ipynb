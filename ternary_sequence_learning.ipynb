{
 "cells": [
  {
   "cell_type": "code",
   "execution_count": 1,
   "id": "dad8e15c",
   "metadata": {},
   "outputs": [
    {
     "name": "stderr",
     "output_type": "stream",
     "text": [
      "C:\\Users\\Jo\\AppData\\Local\\Programs\\Python\\Python39\\lib\\site-packages\\scipy\\__init__.py:146: UserWarning: A NumPy version >=1.16.5 and <1.23.0 is required for this version of SciPy (detected version 1.24.3\n",
      "  warnings.warn(f\"A NumPy version >={np_minversion} and <{np_maxversion}\"\n"
     ]
    },
    {
     "data": {
      "text/plain": [
       "True"
      ]
     },
     "execution_count": 1,
     "metadata": {},
     "output_type": "execute_result"
    }
   ],
   "source": [
    "import numpy as np\n",
    "import tensorflow as tf\n",
    "from tensorflow.keras.models import Sequential\n",
    "from tensorflow.keras.layers import Dense, LSTM\n",
    "from sklearn.preprocessing import LabelEncoder\n",
    "from sklearn.model_selection import train_test_split\n",
    "import os\n",
    "import torch\n",
    "torch.cuda.is_available()"
   ]
  },
  {
   "cell_type": "code",
   "execution_count": 8,
   "id": "c1686b0c",
   "metadata": {},
   "outputs": [
    {
     "name": "stdout",
     "output_type": "stream",
     "text": [
      "Version of Tensorflow:  2.13.1\n",
      "Cuda Availability:  False\n",
      "Num GPUs Available:  0\n"
     ]
    }
   ],
   "source": [
    "print(\"Version of Tensorflow: \", tf.__version__)\n",
    "print(\"Cuda Availability: \", tf.test.is_built_with_cuda())\n",
    "print(\"Num GPUs Available: \", len(tf.config.experimental.list_physical_devices('GPU')))"
   ]
  },
  {
   "cell_type": "code",
   "execution_count": 9,
   "id": "beb95676",
   "metadata": {},
   "outputs": [
    {
     "name": "stdout",
     "output_type": "stream",
     "text": [
      "Package                       Version\n",
      "----------------------------- ------------\n",
      "absl-py                       2.1.0\n",
      "alabaster                     0.7.12\n",
      "anyio                         3.6.2\n",
      "argcomplete                   1.10.3\n",
      "argon2-cffi                   21.3.0\n",
      "argon2-cffi-bindings          21.2.0\n",
      "arrow                         1.2.3\n",
      "asn1crypto                    1.5.1\n",
      "asttokens                     2.2.1\n",
      "astunparse                    1.6.3\n",
      "async-generator               1.10\n",
      "atomicwrites                  1.4.1\n",
      "attrs                         22.2.0\n",
      "Babel                         2.11.0\n",
      "backcall                      0.2.0\n",
      "beautifulsoup4                4.8.2\n",
      "black                         22.12.0\n",
      "bleach                        5.0.1\n",
      "cachetools                    5.3.3\n",
      "certifi                       2022.12.7\n",
      "cffi                          1.15.1\n",
      "chardet                       3.0.4\n",
      "charset-normalizer            2.1.1\n",
      "click                         8.1.3\n",
      "coincurve                     18.0.0\n",
      "colorama                      0.4.6\n",
      "comm                          0.1.2\n",
      "compressed-rtf                1.0.6\n",
      "curio                         1.6\n",
      "cycler                        0.10.0\n",
      "cytoolz                       0.12.3\n",
      "debugpy                       1.6.4\n",
      "decorator                     5.1.1\n",
      "defusedxml                    0.7.1\n",
      "docrepr                       0.2.0\n",
      "docutils                      0.19\n",
      "docx2txt                      0.8\n",
      "ebcdic                        1.1.1\n",
      "eciespy                       0.4.1\n",
      "entrypoints                   0.4\n",
      "eth-hash                      0.6.0\n",
      "eth-keys                      0.4.0\n",
      "eth-typing                    3.5.2\n",
      "eth-utils                     2.3.1\n",
      "exceptiongroup                1.1.0\n",
      "executing                     1.2.0\n",
      "extract-msg                   0.28.7\n",
      "fastjsonschema                2.16.2\n",
      "flatbuffers                   24.3.25\n",
      "fqdn                          1.5.1\n",
      "gast                          0.4.0\n",
      "gitdb                         4.0.10\n",
      "GitPython                     3.1.30\n",
      "google-auth                   2.29.0\n",
      "google-auth-oauthlib          1.0.0\n",
      "google-pasta                  0.2.0\n",
      "grpcio                        1.62.1\n",
      "h5py                          3.11.0\n",
      "idna                          2.10\n",
      "imagesize                     1.4.1\n",
      "IMAPClient                    2.1.0\n",
      "importlib-metadata            5.2.0\n",
      "iniconfig                     1.1.1\n",
      "ipykernel                     6.19.4\n",
      "ipyparallel                   8.4.1\n",
      "ipython                       8.7.0\n",
      "ipython-genutils              0.2.0\n",
      "ipywidgets                    8.0.4\n",
      "isoduration                   20.11.0\n",
      "jedi                          0.18.2\n",
      "Jinja2                        3.1.2\n",
      "joblib                        1.1.0\n",
      "jsonpointer                   2.3\n",
      "jsonschema                    4.17.3\n",
      "jupyter_client                7.4.8\n",
      "jupyter_core                  5.1.1\n",
      "jupyter-events                0.5.0\n",
      "jupyter_server                2.0.6\n",
      "jupyter_server_terminals      0.4.3\n",
      "jupyterlab-pygments           0.2.2\n",
      "jupyterlab-widgets            3.0.5\n",
      "keras                         2.13.1\n",
      "kiwisolver                    1.3.2\n",
      "libclang                      18.1.1\n",
      "lizard                        1.17.10\n",
      "lxml                          4.9.2\n",
      "Markdown                      3.6\n",
      "markdown-it-py                3.0.0\n",
      "MarkupSafe                    2.1.1\n",
      "matplotlib                    3.4.3\n",
      "matplotlib-inline             0.1.6\n",
      "mdurl                         0.1.2\n",
      "mistune                       2.0.4\n",
      "ml-dtypes                     0.3.2\n",
      "mypy-extensions               0.4.3\n",
      "namex                         0.0.8\n",
      "nbclassic                     0.4.8\n",
      "nbclient                      0.7.2\n",
      "nbconvert                     7.2.7\n",
      "nbformat                      5.7.1\n",
      "nest-asyncio                  1.5.6\n",
      "nltk                          3.8.1\n",
      "notebook                      6.5.2\n",
      "notebook_shim                 0.2.2\n",
      "numpy                         1.24.3\n",
      "oauthlib                      3.2.2\n",
      "olefile                       0.46\n",
      "opt-einsum                    3.3.0\n",
      "optree                        0.11.0\n",
      "outcome                       1.2.0\n",
      "packaging                     22.0\n",
      "pandas                        1.5.2\n",
      "pandocfilters                 1.5.0\n",
      "parso                         0.8.3\n",
      "pathspec                      0.10.3\n",
      "pdfminer.six                  20191110\n",
      "pickleshare                   0.7.5\n",
      "Pillow                        8.4.0\n",
      "pip                           24.0\n",
      "platformdirs                  2.6.2\n",
      "pluggy                        1.0.0\n",
      "prometheus-client             0.15.0\n",
      "prompt-toolkit                3.0.36\n",
      "protobuf                      4.25.3\n",
      "psutil                        5.9.4\n",
      "pure-eval                     0.2.2\n",
      "py                            1.11.0\n",
      "pyasn1                        0.6.0\n",
      "pyasn1_modules                0.4.0\n",
      "pycparser                     2.21\n",
      "pycryptodome                  3.20.0\n",
      "PyDriller                     2.4.1\n",
      "Pygments                      2.13.0\n",
      "pyparsing                     3.0.1\n",
      "pyrsistent                    0.19.3\n",
      "PyStemmer                     2.0.1\n",
      "pytest                        6.2.5\n",
      "pytest-asyncio                0.20.3\n",
      "python-dateutil               2.8.2\n",
      "python-json-logger            2.0.4\n",
      "python-pptx                   0.6.21\n",
      "pytz                          2022.7\n",
      "pytz-deprecation-shim         0.1.0.post0\n",
      "pywin32                       305\n",
      "pywinpty                      2.0.9\n",
      "PyYAML                        6.0\n",
      "pyzmq                         24.0.1\n",
      "qtconsole                     5.4.0\n",
      "QtPy                          2.3.0\n",
      "regex                         2023.3.23\n",
      "requests                      2.28.1\n",
      "requests-oauthlib             2.0.0\n",
      "rfc3339-validator             0.1.4\n",
      "rfc3986-validator             0.1.1\n",
      "rich                          13.7.1\n",
      "rsa                           4.9\n",
      "scikit-learn                  1.0.1\n",
      "scipy                         1.7.1\n",
      "Send2Trash                    1.8.0\n",
      "setuptools                    57.4.0\n",
      "six                           1.12.0\n",
      "sklearn                       0.0\n",
      "smmap                         5.0.0\n",
      "sniffio                       1.3.0\n",
      "snowballstemmer               2.2.0\n",
      "sortedcontainers              2.4.0\n",
      "soupsieve                     2.3.2.post1\n",
      "SpeechRecognition             3.8.1\n",
      "Sphinx                        6.0.0\n",
      "sphinx-rtd-theme              0.5.1\n",
      "sphinxcontrib-applehelp       1.0.2\n",
      "sphinxcontrib-devhelp         1.0.2\n",
      "sphinxcontrib-htmlhelp        2.0.0\n",
      "sphinxcontrib-jsmath          1.0.1\n",
      "sphinxcontrib-qthelp          1.0.3\n",
      "sphinxcontrib-serializinghtml 1.1.5\n",
      "stack-data                    0.6.2\n",
      "tensorboard                   2.13.0\n",
      "tensorboard-data-server       0.7.2\n",
      "tensorflow                    2.13.1\n",
      "tensorflow-estimator          2.13.0\n",
      "tensorflow-intel              2.13.1\n",
      "tensorflow-io-gcs-filesystem  0.31.0\n",
      "termcolor                     2.4.0\n",
      "terminado                     0.17.1\n",
      "testpath                      0.6.0\n",
      "textract                      1.6.5\n",
      "tf                            1.0.0\n",
      "threadpoolctl                 3.0.0\n",
      "tinycss2                      1.2.1\n",
      "toml                          0.10.2\n",
      "tomli                         2.0.1\n",
      "toolz                         0.12.1\n",
      "torch                         1.9.1+cu111\n",
      "torchaudio                    0.9.1\n",
      "torchvision                   0.10.1+cu111\n",
      "tornado                       6.2\n",
      "tqdm                          4.64.1\n",
      "traitlets                     5.8.0\n",
      "trio                          0.22.0\n",
      "types-pytz                    2022.7.1.2\n",
      "typing_extensions             4.5.0\n",
      "tzdata                        2022.7\n",
      "tzlocal                       4.2\n",
      "uri-template                  1.2.0\n",
      "urllib3                       1.25.11\n",
      "wcwidth                       0.2.5\n",
      "webcolors                     1.12\n",
      "webencodings                  0.5.1\n",
      "websocket-client              1.4.2\n",
      "Werkzeug                      3.0.2\n",
      "wheel                         0.43.0\n",
      "widgetsnbextension            4.0.5\n",
      "wrapt                         1.16.0\n",
      "xlrd                          1.2.0\n",
      "XlsxWriter                    3.0.4\n",
      "zipp                          3.11.0\n",
      "Note: you may need to restart the kernel to use updated packages.\n"
     ]
    }
   ],
   "source": [
    "pip list"
   ]
  },
  {
   "cell_type": "code",
   "execution_count": 10,
   "id": "32d9218e",
   "metadata": {},
   "outputs": [],
   "source": [
    "path = \"data_0_cloned\"\n",
    "\n",
    "data = []\n",
    "for file in os.listdir(path):\n",
    "    f = open(os.path.join(path,file), \"r\")\n",
    "    s = f.read()\n",
    "    d = [int(x) for x in s]\n",
    "    data.append(d)\n",
    "\n",
    "# randomized categories\n",
    "categories = list(np.random.randint(low = 3,size=50))"
   ]
  },
  {
   "cell_type": "code",
   "execution_count": 5,
   "id": "343297c0",
   "metadata": {},
   "outputs": [
    {
     "data": {
      "text/plain": [
       "[1,\n",
       " 1,\n",
       " 2,\n",
       " 1,\n",
       " 1,\n",
       " 2,\n",
       " 1,\n",
       " 2,\n",
       " 0,\n",
       " 2,\n",
       " 2,\n",
       " 2,\n",
       " 0,\n",
       " 0,\n",
       " 2,\n",
       " 2,\n",
       " 1,\n",
       " 1,\n",
       " 0,\n",
       " 0,\n",
       " 0,\n",
       " 2,\n",
       " 0,\n",
       " 2,\n",
       " 2,\n",
       " 0,\n",
       " 1,\n",
       " 1,\n",
       " 0,\n",
       " 2,\n",
       " 1,\n",
       " 2,\n",
       " 1,\n",
       " 0,\n",
       " 1,\n",
       " 2,\n",
       " 2,\n",
       " 0,\n",
       " 1,\n",
       " 2,\n",
       " 0,\n",
       " 0,\n",
       " 0,\n",
       " 2,\n",
       " 0,\n",
       " 1,\n",
       " 1,\n",
       " 1,\n",
       " 0,\n",
       " 2]"
      ]
     },
     "execution_count": 5,
     "metadata": {},
     "output_type": "execute_result"
    }
   ],
   "source": [
    "categories"
   ]
  },
  {
   "cell_type": "code",
   "execution_count": 11,
   "id": "f3c64993",
   "metadata": {},
   "outputs": [],
   "source": [
    "data = np.array(data)\n",
    "categories = np.array(categories)\n",
    "\n",
    "X_train, x_test, y_train, y_test = train_test_split(data, categories, test_size=0.2, random_state=42)"
   ]
  },
  {
   "cell_type": "code",
   "execution_count": 14,
   "id": "d83e06d2",
   "metadata": {},
   "outputs": [
    {
     "data": {
      "text/plain": [
       "array([1, 0, 1, 0, 1, 1, 1, 1, 0, 0, 2, 1, 0, 2, 1, 2, 0, 2, 0, 0, 2, 2,\n",
       "       0, 2, 0, 1, 0, 1, 1, 1, 2, 2, 0, 0, 1, 2, 1, 0, 0, 0])"
      ]
     },
     "execution_count": 14,
     "metadata": {},
     "output_type": "execute_result"
    }
   ],
   "source": [
    "y_train = np.transpose(y_train)\n",
    "y_train.shape\n",
    "size = X_train.shape[1]\n",
    "y_train"
   ]
  },
  {
   "cell_type": "code",
   "execution_count": 8,
   "id": "f91fbe8d",
   "metadata": {},
   "outputs": [],
   "source": [
    "model = Sequential([\n",
    "    # embeddings can be added for when we want to represent sequences of multiple trits\n",
    "    # Embedding(input_dim=1000, output_dim=64),\n",
    "    LSTM(128, input_shape=(size, 1)),\n",
    "    Dense(3, activation=\"softmax\")\n",
    "])\n",
    "model.compile(loss='sparse_categorical_crossentropy', optimizer='adam', metrics=['accuracy'])"
   ]
  },
  {
   "cell_type": "code",
   "execution_count": 9,
   "id": "b410078f",
   "metadata": {},
   "outputs": [
    {
     "name": "stdout",
     "output_type": "stream",
     "text": [
      "Epoch 1/25\n",
      "40/40 [==============================] - 1371s 35s/step - loss: 1.1421 - accuracy: 0.2500\n",
      "Epoch 2/25\n",
      "40/40 [==============================] - 1578s 39s/step - loss: 1.1090 - accuracy: 0.4250\n",
      "Epoch 3/25\n",
      "40/40 [==============================] - 1627s 41s/step - loss: 1.0844 - accuracy: 0.4250\n",
      "Epoch 4/25\n",
      "40/40 [==============================] - 1701s 43s/step - loss: 1.0887 - accuracy: 0.4250\n",
      "Epoch 5/25\n",
      "40/40 [==============================] - 1695s 42s/step - loss: 1.0954 - accuracy: 0.4250\n",
      "Epoch 6/25\n",
      "40/40 [==============================] - 1712s 43s/step - loss: 1.0844 - accuracy: 0.4250\n",
      "Epoch 7/25\n",
      "40/40 [==============================] - 1729s 43s/step - loss: 1.0971 - accuracy: 0.4250\n",
      "Epoch 8/25\n",
      "40/40 [==============================] - 1789s 45s/step - loss: 1.0967 - accuracy: 0.4250\n",
      "Epoch 9/25\n",
      "40/40 [==============================] - 1729s 43s/step - loss: 1.0860 - accuracy: 0.4250\n",
      "Epoch 10/25\n",
      "40/40 [==============================] - 1718s 43s/step - loss: 1.0864 - accuracy: 0.4250\n",
      "Epoch 11/25\n",
      "40/40 [==============================] - 1759s 44s/step - loss: 1.0949 - accuracy: 0.4250\n",
      "Epoch 12/25\n",
      "40/40 [==============================] - 1743s 44s/step - loss: 1.0870 - accuracy: 0.4250\n",
      "Epoch 13/25\n",
      "40/40 [==============================] - 1752s 44s/step - loss: 1.0834 - accuracy: 0.4250\n",
      "Epoch 14/25\n",
      "40/40 [==============================] - 1757s 44s/step - loss: 1.0852 - accuracy: 0.4250\n",
      "Epoch 15/25\n",
      "40/40 [==============================] - 1752s 44s/step - loss: 1.0850 - accuracy: 0.4250\n",
      "Epoch 16/25\n",
      "40/40 [==============================] - 1739s 44s/step - loss: 1.0838 - accuracy: 0.4250\n",
      "Epoch 17/25\n",
      "40/40 [==============================] - 1754s 44s/step - loss: 1.0821 - accuracy: 0.4250\n",
      "Epoch 18/25\n",
      "40/40 [==============================] - 1796s 45s/step - loss: 1.0833 - accuracy: 0.4250\n",
      "Epoch 19/25\n",
      "40/40 [==============================] - 1762s 44s/step - loss: 1.0839 - accuracy: 0.4250\n",
      "Epoch 20/25\n",
      "40/40 [==============================] - 1807s 45s/step - loss: 1.0855 - accuracy: 0.4250\n",
      "Epoch 21/25\n",
      "40/40 [==============================] - 1882s 47s/step - loss: 1.0827 - accuracy: 0.4250\n",
      "Epoch 22/25\n",
      "40/40 [==============================] - 1900s 47s/step - loss: 1.0863 - accuracy: 0.4250\n",
      "Epoch 23/25\n",
      "40/40 [==============================] - 1824s 46s/step - loss: 1.0842 - accuracy: 0.4250\n",
      "Epoch 24/25\n",
      "40/40 [==============================] - 1795s 45s/step - loss: 1.0824 - accuracy: 0.4250\n",
      "Epoch 25/25\n",
      "40/40 [==============================] - 1876s 47s/step - loss: 1.0893 - accuracy: 0.4250\n"
     ]
    },
    {
     "data": {
      "text/plain": [
       "<keras.src.callbacks.History at 0x2758446bb80>"
      ]
     },
     "execution_count": 9,
     "metadata": {},
     "output_type": "execute_result"
    }
   ],
   "source": [
    "model.fit(X_train, y_train, epochs=25, batch_size=1, verbose=1)"
   ]
  },
  {
   "cell_type": "code",
   "execution_count": 12,
   "id": "af9d1e45",
   "metadata": {},
   "outputs": [
    {
     "name": "stdout",
     "output_type": "stream",
     "text": [
      "INFO:tensorflow:Assets written to: thesis_sequence_initial.k5\\assets\n"
     ]
    },
    {
     "name": "stderr",
     "output_type": "stream",
     "text": [
      "INFO:tensorflow:Assets written to: thesis_sequence_initial.k5\\assets\n"
     ]
    }
   ],
   "source": [
    "model.save('thesis_sequence_initial.k5')"
   ]
  },
  {
   "cell_type": "code",
   "execution_count": 6,
   "id": "d7523266",
   "metadata": {},
   "outputs": [],
   "source": [
    "model = tf.keras.models.load_model('thesis_sequence_initial.k5')"
   ]
  },
  {
   "cell_type": "code",
   "execution_count": 12,
   "id": "2e1279ea",
   "metadata": {},
   "outputs": [],
   "source": [
    "y_pred = model.predict(x_test, batch_size=1, verbose='1')"
   ]
  },
  {
   "cell_type": "code",
   "execution_count": 13,
   "id": "837cdcb7",
   "metadata": {},
   "outputs": [
    {
     "name": "stdout",
     "output_type": "stream",
     "text": [
      "[[0.31872442 0.2630343  0.41824135]\n",
      " [0.30524963 0.27286458 0.42188573]\n",
      " [0.30527455 0.2728458  0.42187962]\n",
      " [0.3009039  0.2630213  0.43607485]\n",
      " [0.30527455 0.2728458  0.42187962]\n",
      " [0.30527455 0.2728458  0.42187962]\n",
      " [0.31891906 0.2630189  0.41806203]\n",
      " [0.30818987 0.27083635 0.42097378]\n",
      " [0.30525747 0.27286273 0.42187983]\n",
      " [0.30527043 0.2728345  0.42189512]]\n"
     ]
    }
   ],
   "source": [
    "print(y_pred)"
   ]
  }
 ],
 "metadata": {
  "kernelspec": {
   "display_name": "Python 3 (ipykernel)",
   "language": "python",
   "name": "python3"
  },
  "language_info": {
   "codemirror_mode": {
    "name": "ipython",
    "version": 3
   },
   "file_extension": ".py",
   "mimetype": "text/x-python",
   "name": "python",
   "nbconvert_exporter": "python",
   "pygments_lexer": "ipython3",
   "version": "3.9.7"
  }
 },
 "nbformat": 4,
 "nbformat_minor": 5
}
